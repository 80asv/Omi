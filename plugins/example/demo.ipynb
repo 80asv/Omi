{
 "cells": [
  {
   "cell_type": "markdown",
   "metadata": {},
   "source": [
    "# Audio Emotion Analysis Notebook\n",
    "\n",
    "This notebook demonstrates how to use the Hume AI API to analyze emotions in audio recordings and provide feedback using OpenAI's GPT-4 model.\n",
    "\n",
    "## Setup\n",
    "\n",
    "First, let's install the required packages:"
   ]
  },
  {
   "cell_type": "code",
   "execution_count": null,
   "metadata": {},
   "outputs": [],
   "source": [
    "!pip install fastapi requests langchain_openai"
   ]
  },
  {
   "cell_type": "markdown",
   "metadata": {},
   "source": [
    "Now, let's import the necessary libraries and set up our environment variables:"
   ]
  },
  {
   "cell_type": "code",
   "execution_count": null,
   "metadata": {},
   "outputs": [],
   "source": [
    "import base64\n",
    "import json\n",
    "import os\n",
    "import time\n",
    "import uuid\n",
    "\n",
    "import requests\n",
    "from fastapi import HTTPException\n",
    "from langchain_openai import ChatOpenAI\n",
    "\n",
    "api_key = os.getenv('HUME_API_KEY')\n",
    "chat = ChatOpenAI(model='gpt-4', temperature=0)"
   ]
  },
  {
   "cell_type": "markdown",
   "metadata": {},
   "source": [
    "## Helper Functions\n",
    "\n",
    "Let's define some helper functions:"
   ]
  },
  {
   "cell_type": "code",
   "execution_count": null,
   "metadata": {},
   "outputs": [],
   "source": [
    "def base64_to_file(base64_url, file_path):\n",
    "    _, base64_content = base64_url.split(',')\n",
    "    file_content = base64.b64decode(base64_content)\n",
    "    with open(file_path, 'wb') as file:\n",
    "        file.write(file_content)\n",
    "\n",
    "def wait_for_job_completion(job_id):\n",
    "    while True:\n",
    "        response = requests.get(f'https://api.hume.ai/v0/batch/jobs/{job_id}', headers={'X-Hume-Api-Key': api_key})\n",
    "        data = response.json()\n",
    "        print(data['state']['status'])\n",
    "        if data['state']['status'] == 'COMPLETED':\n",
    "            break\n",
    "        time.sleep(2)"
   ]
  },
  {
   "cell_type": "markdown",
   "metadata": {},
   "source": [
    "## Main Function\n",
    "\n",
    "Now, let's create our main function for audio emotion analysis:"
   ]
  },
  {
   "cell_type": "code",
   "execution_count": null,
   "metadata": {},
   "outputs": [],
   "source": [
    "def conversation_feedback(recording_file_base64):\n",
    "    if recording_file_base64 is None:\n",
    "        return {}\n",
    "    \n",
    "    file_path = f\"{str(uuid.uuid4())}.wav\"\n",
    "    base64_to_file(recording_file_base64, file_path)\n",
    "    \n",
    "    # Create Hume AI job\n",
    "    response = requests.post(\n",
    "        'https://api.hume.ai/v0/batch/jobs',\n",
    "        headers={'X-Hume-Api-Key': api_key},\n",
    "        files={'file': open(file_path, 'rb')},\n",
    "    )\n",
    "    if response.status_code != 200:\n",
    "        raise HTTPException(status_code=500, detail='Failed to create job')\n",
    "\n",
    "    job_id = response.json()['job_id']\n",
    "    if not job_id:\n",
    "        raise HTTPException(status_code=500, detail='Failed to create job')\n",
    "\n",
    "    # Wait for job completion\n",
    "    wait_for_job_completion(job_id)\n",
    "\n",
    "    # Get predictions\n",
    "    response = requests.get(f'https://api.hume.ai/v0/batch/jobs/{job_id}/predictions',\n",
    "                            headers={'X-Hume-Api-Key': api_key})\n",
    "    if response.status_code != 200:\n",
    "        return {}\n",
    "    \n",
    "    predictions = response.json()[0]['results']['predictions'][0]['models']['prosody']['grouped_predictions'][0]['predictions']\n",
    "\n",
    "    # Clean predictions\n",
    "    cleaned = []\n",
    "    for p in predictions:\n",
    "        text = p['text']\n",
    "        emotions = [emotion['name'] for emotion in p['emotions'] if emotion['score'] > 0.2]\n",
    "        cleaned.append({'text': text, 'emotions': emotions})\n",
    "\n",
    "    # Generate feedback using GPT-4\n",
    "    prompt = f'''\n",
    "    You are a Friend AI, and you are tasked with providing feedback on the emotional state of the speaker in the following audio.\n",
    "    You will receive a list of text segments, each with a list of emotions detected in the speaker's voice.\n",
    "    \n",
    "    If you believe there are any important emotional states that should be brought to the attention of the speaker, \\\n",
    "    please provide a short message that will make the user smile, based on the conversation that just happened, highlight something from it.\n",
    "    Be short, concise, and helpful, use maximum 15 words. OUTPUT ONLY THE MESSAGE.\n",
    "    {json.dumps(cleaned)}\n",
    "    '''\n",
    "    result = chat.invoke(prompt)\n",
    "    \n",
    "    return {'message': result.content}"
   ]
  },
  {
   "cell_type": "markdown",
   "metadata": {},
   "source": []
  },
  {
   "cell_type": "code",
   "execution_count": null,
   "metadata": {},
   "outputs": [],
   "source": []
  },
  {
   "cell_type": "markdown",
   "metadata": {},
   "source": []
  }
 ],
 "metadata": {
  "kernelspec": {
   "display_name": "Python 3",
   "language": "python",
   "name": "python3"
  },
  "language_info": {
   "codemirror_mode": {
    "name": "ipython",
    "version": 3
   },
   "file_extension": ".py",
   "mimetype": "text/x-python",
   "name": "python",
   "nbconvert_exporter": "python",
   "pygments_lexer": "ipython3",
   "version": "3.8.10"
  }
 },
 "nbformat": 4,
 "nbformat_minor": 4
}
